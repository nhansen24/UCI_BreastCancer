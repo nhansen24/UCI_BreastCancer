{
 "cells": [
  {
   "metadata": {},
   "cell_type": "markdown",
   "source": [
    "# <div style=\"color:rgb(200,180,180);font-size:42px;\"><u>***UCI Breast Cancer Pipeline Project***</u></div>\n",
    "## **Some additional variable information from UCI:**\n",
    "\n",
    "1 )  ID number <br>\n",
    "2 )  Diagnosis (M = malignant, B = benign) <br>\n",
    "\n",
    "3-32 ) Below &#8595;\n",
    "\n",
    "### **Ten real-valued features are computed for each cell nucleus:**\n",
    "\n",
    "1) radius (mean of distances from center to points on the perimeter)\n",
    "2) texture (standard deviation of gray-scale values)\n",
    "3) perimeter\n",
    "4) area\n",
    "5) smoothness (local variation in radius lengths)\n",
    "6) compactness (perimeter^2 / area - 1.0)\n",
    "7) concavity (severity of concave portions on the contour)\n",
    "8) concave points (number of concave portions of the contour)\n",
    "9) symmetry\n",
    "10) fractal dimension (\"coastline approximation\" - 1)\n",
    "###\n"
   ],
   "id": "8a77807f92f26ee"
  },
  {
   "metadata": {},
   "cell_type": "markdown",
   "source": "## 0. Import Modules:",
   "id": "749aa01dbbbdb920"
  },
  {
   "metadata": {
    "ExecuteTime": {
     "end_time": "2025-04-30T00:50:46.701659Z",
     "start_time": "2025-04-30T00:50:45.612614Z"
    }
   },
   "cell_type": "code",
   "source": [
    "import pandas as pd\n",
    "import numpy as np\n",
    "import matplotlib.pyplot as plt\n",
    "import matplotlib.axes as ax\n",
    "\n",
    "from sklearn.model_selection import train_test_split\n",
    "from sklearn.preprocessing import StandardScaler\n",
    "from sklearn.ensemble import RandomForestClassifier, GradientBoostingClassifier\n",
    "from sklearn.linear_model import Lasso, SGDClassifier\n",
    "from sklearn.pipeline import Pipeline\n",
    "from sklearn.compose import ColumnTransformer\n",
    "from sklearn.model_selection import GridSearchCV, RandomizedSearchCV\n",
    "from sklearn.decomposition import PCA\n",
    "from sklearn.discriminant_analysis import LinearDiscriminantAnalysis as LDA\n",
    "\n",
    "from imblearn.over_sampling import SMOTE"
   ],
   "id": "fbc121e30a2defb3",
   "outputs": [],
   "execution_count": 1
  },
  {
   "metadata": {},
   "cell_type": "markdown",
   "source": "## 1. Import UCI Dataset &#8594; Write Dataset to Local CSV",
   "id": "d6bb11e040930155"
  },
  {
   "metadata": {
    "ExecuteTime": {
     "end_time": "2025-04-30T00:50:46.762586Z",
     "start_time": "2025-04-30T00:50:46.758401Z"
    }
   },
   "cell_type": "code",
   "source": [
    "## Import UCI Dataset and write to local csv\n",
    "## NOTE: Commented out code for the sake of minimizing runtime, it is functional/reusable.\n",
    "\"\"\"\n",
    "from ucimlrepo import fetch_ucirepo\n",
    "breast_ca = fetch_ucirepo(id=17)\n",
    "\n",
    "breast_ca_df = breast_ca.data.original\n",
    "breast_ca_df.to_csv('UCI_BreastCancer.csv', index=False)\n",
    "print('Successfully wrote dataset to csv file!')\n",
    "\"\"\"\n",
    "\n",
    "# Read csv and store as df\n",
    "df = pd.read_csv('UCI_BreastCancer.csv')"
   ],
   "id": "ab5da9bbd6113d23",
   "outputs": [],
   "execution_count": 2
  },
  {
   "metadata": {},
   "cell_type": "markdown",
   "source": "## 2. Search for missing values and verify shape &#8594; Identify Feature Types",
   "id": "eef83ea28de45e48"
  },
  {
   "metadata": {
    "ExecuteTime": {
     "end_time": "2025-04-30T00:50:46.776028Z",
     "start_time": "2025-04-30T00:50:46.772299Z"
    }
   },
   "cell_type": "code",
   "source": [
    "# Search Dataset for missing / null values:\n",
    "print('\\n')\n",
    "try:\n",
    "    if df.isnull().sum().any()>0:\n",
    "        print('NaN values found: ', df.isnull().sum())\n",
    "    else:\n",
    "        print('No NaN or null values found')\n",
    "except Exception as e:\n",
    "    print(e)\n",
    "\n",
    "# Consider the number of unique values for each feature:\n",
    "# All features are numeric.\n",
    "# print(df.nunique())\n",
    "\n",
    "# Verify features and shape:\n",
    "print('\\nDATASET COLUMNS: \\n',df.columns)\n",
    "print('\\nDATASET SHAPE:  ',df.shape)"
   ],
   "id": "b0b9a07b3acbec54",
   "outputs": [
    {
     "name": "stdout",
     "output_type": "stream",
     "text": [
      "\n",
      "\n",
      "No NaN or null values found\n",
      "\n",
      "DATASET COLUMNS: \n",
      " Index(['ID', 'radius1', 'texture1', 'perimeter1', 'area1', 'smoothness1',\n",
      "       'compactness1', 'concavity1', 'concave_points1', 'symmetry1',\n",
      "       'fractal_dimension1', 'radius2', 'texture2', 'perimeter2', 'area2',\n",
      "       'smoothness2', 'compactness2', 'concavity2', 'concave_points2',\n",
      "       'symmetry2', 'fractal_dimension2', 'radius3', 'texture3', 'perimeter3',\n",
      "       'area3', 'smoothness3', 'compactness3', 'concavity3', 'concave_points3',\n",
      "       'symmetry3', 'fractal_dimension3', 'Diagnosis'],\n",
      "      dtype='object')\n",
      "\n",
      "DATASET SHAPE:   (569, 32)\n"
     ]
    }
   ],
   "execution_count": 3
  },
  {
   "metadata": {},
   "cell_type": "markdown",
   "source": "## 3. Define Target (y) and Features (X) &#8594; Convert Target to Binary &#8594; Train_Test_Split()",
   "id": "a213549fdd484797"
  },
  {
   "metadata": {
    "ExecuteTime": {
     "end_time": "2025-04-30T00:50:46.791910Z",
     "start_time": "2025-04-30T00:50:46.786333Z"
    }
   },
   "cell_type": "code",
   "source": [
    "# Define features and target\n",
    "y = df.Diagnosis\n",
    "X = df.drop(columns=['Diagnosis','ID'])\n",
    "\n",
    "print('\\n')\n",
    "# Verify expected shapes before and after:\n",
    "print('X shape: ',X.shape)\n",
    "print('y shape: ',y.shape)\n",
    "\n",
    "# Convert target data to binary and verify value_counts.\n",
    "print('\\nTarget values: Benign (B) and Malignant (M)')\n",
    "print('Target prior to binary conversion: \\n',y.value_counts())\n",
    "try:\n",
    "    y = pd.DataFrame(np.where(y == 'M',1,0), columns=['Diagnosis'])\n",
    "    y = y.Diagnosis\n",
    "    print('\\nTarget post binary conversion: \\n',y.value_counts(),'\\n')\n",
    "\n",
    "except Exception as e:\n",
    "    print(e)\n",
    "\n",
    "# Verify expected shapes before and after:\n",
    "print('X shape: ',X.shape)\n",
    "print('y shape: ',y.shape)\n",
    "\n",
    "# train_test_split\n",
    "X_train, X_test, y_train, y_test = train_test_split(X, y, test_size=0.2, random_state=13)"
   ],
   "id": "c772ced577d1db74",
   "outputs": [
    {
     "name": "stdout",
     "output_type": "stream",
     "text": [
      "\n",
      "\n",
      "X shape:  (569, 30)\n",
      "y shape:  (569,)\n",
      "\n",
      "Target values: Benign (B) and Malignant (M)\n",
      "Target prior to binary conversion: \n",
      " Diagnosis\n",
      "B    357\n",
      "M    212\n",
      "Name: count, dtype: int64\n",
      "\n",
      "Target post binary conversion: \n",
      " Diagnosis\n",
      "0    357\n",
      "1    212\n",
      "Name: count, dtype: int64 \n",
      "\n",
      "X shape:  (569, 30)\n",
      "y shape:  (569,)\n"
     ]
    }
   ],
   "execution_count": 4
  },
  {
   "metadata": {},
   "cell_type": "markdown",
   "source": "## 4. Lasso and LDA &#8594; Exploratory Data Analysis and Feature Selection",
   "id": "711907c901c3546"
  },
  {
   "metadata": {
    "ExecuteTime": {
     "end_time": "2025-04-30T00:50:46.955108Z",
     "start_time": "2025-04-30T00:50:46.815495Z"
    }
   },
   "cell_type": "code",
   "source": [
    "# Summary of findings:\n",
    "# Lasso L1 Regularization outperforms Linear Discriminant Analysis (LDA) for feature selection performance.\n",
    "print('\\nLasso L1 Regularization outperforms Linear Discriminant Analysis (LDA) for feature selection performance.')\n",
    "\n",
    "from sklearn.linear_model import Lasso\n",
    "from sklearn.discriminant_analysis import LinearDiscriminantAnalysis as LDA\n",
    "\n",
    "scaler = StandardScaler()\n",
    "X_train_scale = scaler.fit_transform(X_train)\n",
    "X_test_scale = scaler.transform(X_test)\n",
    "\n",
    "# LASSO feature set:\n",
    "reg = Lasso(alpha=0.005)\n",
    "reg.fit(X_train_scale,y_train)\n",
    "X_train_scale = pd.DataFrame(X_train_scale,columns=X.columns)\n",
    "X_L_train = X_train_scale[X_train_scale.columns[np.abs(reg.coef_) > 0.001]]\n",
    "X_test_scale = pd.DataFrame(X_test_scale,columns=X.columns)\n",
    "X_L_test = X_test_scale[X_test_scale.columns[np.abs(reg.coef_) > 0.001]]\n",
    "print('X_L_train shape: \\t',X_L_train.shape)\n",
    "\n",
    "# LDA feature set:\n",
    "clf = LDA(shrinkage=0.005,solver='lsqr')\n",
    "clf.fit(X_train_scale,y_train)\n",
    "X_LDA_train = X_train_scale[X_train_scale.columns[np.abs(clf.coef_[0]) > 0.7]]\n",
    "X_LDA_test = X_test_scale[X_test_scale.columns[np.abs(clf.coef_[0]) > 0.7]]\n",
    "print('X_LDA_train shape:\\t',X_LDA_train.shape)\n",
    "\n",
    "# Comparing selected features:\n",
    "s_lasso = pd.Series(X_L_train.columns,name='Lasso Features').sort_values()\n",
    "s_lda = pd.Series(X_LDA_train.columns,name='LDA Features').sort_values()\n",
    "s_lasso = pd.Series(s_lasso.values,name='Lasso Features')\n",
    "s_lda = pd.Series(s_lda.values,name='LDA Features')\n",
    "featureset_compare = pd.concat([s_lasso,s_lda],axis=1)\n",
    "print(f'\\n{featureset_compare}')\n",
    "\n",
    "\n",
    "# For loop to compare Lasso and LDA findings:\n",
    "score_list = list()\n",
    "for i in range(1,51):\n",
    "    # Lasso features on SGDClassifier:\n",
    "    clf_validate1 = SGDClassifier(random_state=i+1,penalty='l2',alpha=0.01,loss='log_loss')\n",
    "    clf_validate1.fit(X_L_train,y_train)\n",
    "    lasso_score = clf_validate1.score(X_L_test,y_test)\n",
    "    # LDA features on SGDClassifier:\n",
    "    clf_validate1.fit(X_LDA_train,y_train)\n",
    "    lda_score = clf_validate1.score(X_LDA_test,y_test)\n",
    "    # Append:\n",
    "    score_list.append([i+1,lasso_score,lda_score])\n",
    "\n",
    "# Comparing results from loop:\n",
    "print('\\nAvg results from fitting SGDC with Lasso and LDA feature sets (50 times): ',)\n",
    "c_names = ['random_state','lasso_score','lda_score']\n",
    "scores_df = pd.DataFrame(score_list,columns=c_names)\n",
    "print(f'Lasso Avg Score: \\t{scores_df[\"lasso_score\"].mean():.4f}')\n",
    "print(f'LDA Avg Score: \\t\\t{scores_df[\"lda_score\"].mean():.4f}')\n",
    "print(f'Lasso Std Dev: \\t\\t{scores_df[\"lasso_score\"].std():.4f}')\n",
    "print(f'LDA Std Dev: \\t\\t{scores_df[\"lda_score\"].std():.4f}')\n"
   ],
   "id": "14ba4899f679b6d0",
   "outputs": [
    {
     "name": "stdout",
     "output_type": "stream",
     "text": [
      "\n",
      "Lasso L1 Regularization outperforms Linear Discriminant Analysis (LDA) for feature selection performance.\n",
      "X_L_train shape: \t (455, 19)\n",
      "X_LDA_train shape:\t (455, 19)\n",
      "\n",
      "        Lasso Features        LDA Features\n",
      "0                area2               area1\n",
      "1         compactness1               area2\n",
      "2         compactness2               area3\n",
      "3      concave_points1        compactness1\n",
      "4      concave_points2     concave_points1\n",
      "5      concave_points3     concave_points2\n",
      "6           concavity2     concave_points3\n",
      "7           concavity3          concavity1\n",
      "8   fractal_dimension1          concavity2\n",
      "9   fractal_dimension3          concavity3\n",
      "10             radius2  fractal_dimension1\n",
      "11             radius3  fractal_dimension3\n",
      "12         smoothness2          perimeter1\n",
      "13         smoothness3          perimeter3\n",
      "14           symmetry2             radius1\n",
      "15           symmetry3             radius2\n",
      "16            texture1             radius3\n",
      "17            texture2         smoothness2\n",
      "18            texture3           symmetry3\n",
      "\n",
      "Avg results from fitting SGDC with Lasso and LDA feature sets (50 times): \n",
      "Lasso Avg Score: \t0.9909\n",
      "LDA Avg Score: \t\t0.9691\n",
      "Lasso Std Dev: \t\t0.0017\n",
      "LDA Std Dev: \t\t0.0054\n"
     ]
    }
   ],
   "execution_count": 5
  },
  {
   "metadata": {},
   "cell_type": "markdown",
   "source": "## 4.1. Lasso L1 Regularization",
   "id": "7292c5d822ca9c3a"
  },
  {
   "metadata": {
    "ExecuteTime": {
     "end_time": "2025-04-30T00:50:47.481063Z",
     "start_time": "2025-04-30T00:50:46.982822Z"
    }
   },
   "cell_type": "code",
   "source": [
    "# Initialize scaler and fit_transform:\n",
    "scaler = StandardScaler()\n",
    "X_train_scale = scaler.fit_transform(X_train)\n",
    "X_test_scale = scaler.transform(X_test)\n",
    "\n",
    "print('\\n')\n",
    "# Loop to show scores and number of features with non-zero coefficients:\n",
    "show_list = [0.0005,0.002,0.005,0.05]\n",
    "for i in show_list:\n",
    "    reg = Lasso(alpha=i)\n",
    "    reg.fit(X_train_scale,y_train)\n",
    "    coefs = pd.Series(reg.coef_,X.columns)\n",
    "    print(f'Lasso(alpha={i}) score:\\t',f'{reg.score(X_test_scale, y_test):.3f}',\n",
    "          '\\tNumber of features with a non-zero coef: ', coefs[reg.coef_ != 0].shape[0])\n",
    "\n",
    "# Loop to analyze for any meaningful impact of alpha on the score:\n",
    "score_list = list()\n",
    "try:\n",
    "    for i in np.logspace(-3.5,-1.36,100):\n",
    "        reg = Lasso(alpha=i)\n",
    "        reg.fit(X_train_scale,y_train)\n",
    "        coefs = pd.Series(reg.coef_,X.columns)\n",
    "        score_list.append([i,reg.score(X_test_scale, y_test)])\n",
    "except Exception as e:\n",
    "    print(e)\n",
    "\n",
    "c_names = ['alpha:','score:']\n",
    "score_df = pd.DataFrame(score_list,columns=c_names)\n",
    "max_score = score_df['score:'].max()\n",
    "print(f'\\nBest score: \\n{max_score:.3f}')\n",
    "\n",
    "plt.plot(score_df['alpha:'],score_df['score:'],color='green',scalex=True)\n",
    "plt.plot([0.005,0.005],[0.69,0.735],color='y',linestyle='--',label='alpha=0.005')\n",
    "plt.plot([0.002,0.002],[0.70,0.745],color='red',linestyle='--',label='alpha=0.002')\n",
    "plt.legend()\n",
    "plt.xlabel('alpha')\n",
    "plt.xscale('log')\n",
    "plt.ylabel('score')\n",
    "plt.title('Lasso L1 Regularization: Score vs. Alpha')\n",
    "plt.tight_layout()\n",
    "plt.show()\n",
    "plt.clf()"
   ],
   "id": "22029575a8a49b00",
   "outputs": [
    {
     "name": "stdout",
     "output_type": "stream",
     "text": [
      "\n",
      "\n",
      "Lasso(alpha=0.0005) score:\t 0.725 \tNumber of features with a non-zero coef:  26\n",
      "Lasso(alpha=0.002) score:\t 0.730 \tNumber of features with a non-zero coef:  24\n",
      "Lasso(alpha=0.005) score:\t 0.718 \tNumber of features with a non-zero coef:  19\n",
      "Lasso(alpha=0.05) score:\t 0.666 \tNumber of features with a non-zero coef:  5\n",
      "\n",
      "Best score: \n",
      "0.730\n"
     ]
    },
    {
     "data": {
      "text/plain": [
       "<Figure size 640x480 with 1 Axes>"
      ],
      "image/png": "[encoded data removed]"
     },
     "metadata": {},
     "output_type": "display_data"
    },
    {
     "data": {
      "text/plain": [
       "<Figure size 640x480 with 0 Axes>"
      ]
     },
     "metadata": {},
     "output_type": "display_data"
    }
   ],
   "execution_count": 6
  },
  {
   "metadata": {},
   "cell_type": "markdown",
   "source": "## 4.1.1. Lasso L1 Regularization - Coefficients",
   "id": "d64936d7992edd78"
  },
  {
   "metadata": {
    "ExecuteTime": {
     "end_time": "2025-04-30T00:50:47.680818Z",
     "start_time": "2025-04-30T00:50:47.509955Z"
    }
   },
   "cell_type": "code",
   "source": [
    "# Supporting visuals for Lasso L1 Regularization tuning of alpha:\n",
    "scaler = StandardScaler()\n",
    "X_train_scale = scaler.fit_transform(X_train)\n",
    "X_test_scale = scaler.transform(X_test)\n",
    "print('\\n')\n",
    "# Plot of alpha=0.002 (RED)\n",
    "reg = Lasso(alpha=0.002)\n",
    "reg.fit(X_train_scale,y_train)\n",
    "coefs = pd.Series(reg.coef_,X.columns).sort_values()\n",
    "coefs.plot(kind='bar',color='red')\n",
    "plt.xlabel('Features')\n",
    "plt.ylabel('Coefficients')\n",
    "plt.title('Lasso(alpha=0.002) Regularization Coefficients')\n",
    "plt.xticks(rotation=90)\n",
    "plt.tight_layout()\n",
    "plt.show()\n",
    "plt.clf()\n",
    "\n",
    "print('\\n')\n",
    "# Plot of alpha=0.005 (YELLOW)\n",
    "reg = Lasso(alpha=0.005)\n",
    "reg.fit(X_train_scale,y_train)\n",
    "coefs = pd.Series(reg.coef_,X.columns).sort_values()\n",
    "coefs.plot(kind='bar',color='y')\n",
    "plt.xlabel('Features')\n",
    "plt.ylabel('Coefficients')\n",
    "plt.title('Lasso(alpha=0.005) Regularization Coefficients')\n",
    "plt.xticks(rotation=90)\n",
    "plt.tight_layout()\n",
    "plt.show()\n",
    "plt.clf()\n"
   ],
   "id": "e1c03cc004cf25e",
   "outputs": [
    {
     "name": "stdout",
     "output_type": "stream",
     "text": [
      "\n",
      "\n"
     ]
    },
    {
     "data": {
      "text/plain": [
       "<Figure size 640x480 with 1 Axes>"
      ],
      "image/png": "[encoded data removed]"
     },
     "metadata": {},
     "output_type": "display_data"
    },
    {
     "name": "stdout",
     "output_type": "stream",
     "text": [
      "\n",
      "\n"
     ]
    },
    {
     "data": {
      "text/plain": [
       "<Figure size 640x480 with 1 Axes>"
      ],
      "image/png": "[encoded data removed]"
     },
     "metadata": {},
     "output_type": "display_data"
    },
    {
     "data": {
      "text/plain": [
       "<Figure size 640x480 with 0 Axes>"
      ]
     },
     "metadata": {},
     "output_type": "display_data"
    }
   ],
   "execution_count": 7
  },
  {
   "metadata": {},
   "cell_type": "markdown",
   "source": [
    "## 4.1.2. Lasso L1 Regularization - Feature Selection\n",
    "*<div style=\"font-size:16px;color:lightpink\"> *Note: Defining new Lasso features training / testing sets as* **X_L_train** *and* **X_L_test** </div>*"
   ],
   "id": "49f1e8922e24e30a"
  },
  {
   "metadata": {
    "ExecuteTime": {
     "end_time": "2025-04-30T00:50:47.720607Z",
     "start_time": "2025-04-30T00:50:47.713607Z"
    }
   },
   "cell_type": "code",
   "source": [
    "# Using alpha=0.005 (19 features with non-zero coefficients)\n",
    "\n",
    "# Ensure a known starting condition before fitting Lasso:\n",
    "scaler = StandardScaler()\n",
    "X_train_scale = scaler.fit_transform(X_train)\n",
    "X_test_scale = scaler.transform(X_test)\n",
    "\n",
    "# Fit Lasso with alpha=0.005:\n",
    "reg = Lasso(alpha=0.005)\n",
    "reg.fit(X_train_scale,y_train)\n",
    "\n",
    "# Select features with coefficients > 0.001:\n",
    "X_train_scale = pd.DataFrame(X_train_scale,columns=X.columns)\n",
    "X_L_train = X_train_scale[X_train_scale.columns[np.abs(reg.coef_) > 0.001]]\n",
    "\n",
    "X_test_scale = pd.DataFrame(X_test_scale,columns=X.columns)\n",
    "X_L_test = X_test_scale[X_test_scale.columns[np.abs(reg.coef_) > 0.001]]\n",
    "\n",
    "## DON'T Fall for this trap!\n",
    "# X_L_test = X_test_scale[X_test_scale.columns[coefs.abs() > 0.001]]\n",
    "## Using coefs.abs() will produce incorrect features due to the sort_values() called on it.\n",
    "print('\\n')\n",
    "# Verify expected shapes (19 features):\n",
    "print('X_L_train (Lasso features) shape: \\t',X_L_train.shape)\n",
    "print('X_L_test (Lasso features) shape: \\t',X_L_test.shape)\n",
    "\n",
    "# Verify expected columns:\n",
    "# print(X_L_train.columns)"
   ],
   "id": "e15717a073958230",
   "outputs": [
    {
     "name": "stdout",
     "output_type": "stream",
     "text": [
      "\n",
      "\n",
      "X_L_train (Lasso features) shape: \t (455, 19)\n",
      "X_L_test (Lasso features) shape: \t (114, 19)\n"
     ]
    }
   ],
   "execution_count": 8
  },
  {
   "metadata": {},
   "cell_type": "markdown",
   "source": "## 4.1.3. Lasso L1 Regularization – Validating Feature Selection with RFC",
   "id": "4fb490c362da9504"
  },
  {
   "metadata": {
    "ExecuteTime": {
     "end_time": "2025-04-30T00:50:59.437871Z",
     "start_time": "2025-04-30T00:50:47.752149Z"
    }
   },
   "cell_type": "code",
   "source": [
    "# Compare the performance of RandomForestClassifier on X_L_train and X_L_test VS full feature set.\n",
    "\n",
    "# Loop to fit RFC with Lasso features and the Full feature set, 50 times:\n",
    "# About 15 sec runtime with 50 loop runs.\n",
    "rfc_list = list()\n",
    "for i in range(1,51):\n",
    "    # LASSO FEATURE SET:\n",
    "    clf_validate1 = RandomForestClassifier(random_state=i+1,max_depth=10,n_estimators=150)\n",
    "    clf_validate1.fit(X_L_train,y_train)\n",
    "    lasso_score = clf_validate1.score(X_L_test,y_test)\n",
    "    # FULL FEATURE SET:\n",
    "    clf_validate2 = RandomForestClassifier(random_state=i+1,max_depth=10,n_estimators=150)\n",
    "    clf_validate2.fit(X_train_scale,y_train)\n",
    "    full_score = clf_validate2.score(X_test_scale,y_test)\n",
    "    # APPEND\n",
    "    rfc_list.append([i+1,lasso_score,full_score])\n",
    "\n",
    "c_names = ['random_state','lasso_score','full_score']\n",
    "scores_df = pd.DataFrame(rfc_list,columns=c_names)\n",
    "print(f'\\nRFC Lasso Avg Score: \\t{scores_df[\"lasso_score\"].mean():.4f}')\n",
    "print(f'RFC Full Avg Score: \\t{scores_df[\"full_score\"].mean():.4f}')\n",
    "print(f'RFC Lasso Std Dev: \\t{scores_df[\"lasso_score\"].std():.4f}')\n",
    "print(f'RFC Full Std Dev: \\t{scores_df[\"full_score\"].std():.4f}')\n",
    "\n",
    "# LASSO feature set has a BIG improved average score and a lower std dev!\n",
    "# While using only 19 of the 30 features!"
   ],
   "id": "a547d88503305f51",
   "outputs": [
    {
     "name": "stdout",
     "output_type": "stream",
     "text": [
      "\n",
      "RFC Lasso Avg Score: \t0.9698\n",
      "RFC Full Avg Score: \t0.9225\n",
      "RFC Lasso Std Dev: \t0.0087\n",
      "RFC Full Std Dev: \t0.0105\n"
     ]
    }
   ],
   "execution_count": 9
  },
  {
   "metadata": {},
   "cell_type": "markdown",
   "source": "## 4.1.4. Lasso L1 Regularization – Validating Feature Selection with SGDClassifier",
   "id": "35e8f8c1da587a4c"
  },
  {
   "metadata": {
    "ExecuteTime": {
     "end_time": "2025-04-30T00:50:59.597111Z",
     "start_time": "2025-04-30T00:50:59.465251Z"
    }
   },
   "cell_type": "code",
   "source": [
    "# Compare the performance of SGDClassifier on X_L_train and X_L_test VS full feature set.\n",
    "from sklearn.linear_model import SGDClassifier\n",
    "\n",
    "# Loop to fit SGDClassifier with Lasso features and the Full feature set, 50 times:\n",
    "# About 0.3 sec runtime with 50 loop runs.\n",
    "sgd_list = list()\n",
    "for i in range(1,51):\n",
    "    # LASSO FEATURE SET:\n",
    "    clf_validate1 = SGDClassifier(random_state=i+1,penalty='l2',alpha=0.01,loss='log_loss')\n",
    "    clf_validate1.fit(X_L_train,y_train)\n",
    "    lasso_score = clf_validate1.score(X_L_test,y_test)\n",
    "    # FULL FEATURE SET:\n",
    "    clf_validate2 = SGDClassifier(random_state=i+1,penalty='l2',alpha=0.01,loss='log_loss')\n",
    "    clf_validate2.fit(X_train_scale,y_train)\n",
    "    full_score = clf_validate2.score(X_test_scale,y_test)\n",
    "    # APPEND RESULTS\n",
    "    sgd_list.append([i+1,lasso_score,full_score])\n",
    "\n",
    "c_names = ['random_state','lasso_score','full_score']\n",
    "scores_df = pd.DataFrame(sgd_list,columns=c_names)\n",
    "print(f'\\nSGDC Lasso Avg Score: \\t{scores_df[\"lasso_score\"].mean():.4f}')\n",
    "print(f'SGDC Full Avg Score: \\t{scores_df[\"full_score\"].mean():.4f}')\n",
    "print(f'SGDC Lasso Std Dev: \\t{scores_df[\"lasso_score\"].std():.4f}')\n",
    "print(f'SGDC Full Std Dev: \\t{scores_df[\"full_score\"].std():.4f}')\n",
    "\n",
    "# LASSO feature set has a slightly improved average score and a similar std dev!\n",
    "# While using only 19 of the 30 features!"
   ],
   "id": "f141beb9d7010d23",
   "outputs": [
    {
     "name": "stdout",
     "output_type": "stream",
     "text": [
      "\n",
      "SGDC Lasso Avg Score: \t0.9909\n",
      "SGDC Full Avg Score: \t0.9889\n",
      "SGDC Lasso Std Dev: \t0.0017\n",
      "SGDC Full Std Dev: \t0.0053\n"
     ]
    }
   ],
   "execution_count": 10
  },
  {
   "metadata": {},
   "cell_type": "markdown",
   "source": "## 4.2. Linear Discriminant Analysis (LDA)",
   "id": "fbb8c8069b516281"
  },
  {
   "metadata": {
    "ExecuteTime": {
     "end_time": "2025-04-30T00:50:59.634164Z",
     "start_time": "2025-04-30T00:50:59.624916Z"
    }
   },
   "cell_type": "code",
   "source": [
    "from sklearn.discriminant_analysis import LinearDiscriminantAnalysis as LDA\n",
    "from sklearn.preprocessing import StandardScaler\n",
    "\n",
    "# Initialize scaled training and testing data:\n",
    "scaler = StandardScaler()\n",
    "X_train_scale = scaler.fit_transform(X_train)\n",
    "X_test_scale = scaler.transform(X_test)\n",
    "\n",
    "# Initialize LDA and fit to training data:\n",
    "clf = LDA(shrinkage=0.005,solver='lsqr')\n",
    "clf.fit(X_train_scale,y_train)\n",
    "print(f'\\nLDA \\'lsqr\\' solver score: \\t{clf.score(X_test_scale,y_test):.4f}')\n",
    "\n",
    "clf = LDA(solver='svd')\n",
    "clf.fit(X_train_scale,y_train)\n",
    "print(f'LDA \\'svd\\' solver score: \\t{clf.score(X_test_scale,y_test):.4f}')\n",
    "\n",
    "clf = LDA(shrinkage=0.005,solver='eigen')\n",
    "clf.fit(X_train_scale,y_train)\n",
    "print(f'LDA \\'eigen\\' solver score: \\t{clf.score(X_test_scale,y_test):.4f}')\n",
    "\n",
    "print('\\nContinuing with \\'lsqr\\' (least squares solution) solver to adjust shrinkage as desired.'\n",
    "      '\\nNote: only \\'lsqr\\' and \\'eigen\\' are compatible with shrinkage.\\n')"
   ],
   "id": "993522887d773343",
   "outputs": [
    {
     "name": "stdout",
     "output_type": "stream",
     "text": [
      "\n",
      "LDA 'lsqr' solver score: \t0.9825\n",
      "LDA 'svd' solver score: \t0.9825\n",
      "LDA 'eigen' solver score: \t0.9825\n",
      "\n",
      "Continuing with 'lsqr' (least squares solution) solver to adjust shrinkage as desired.\n",
      "Note: only 'lsqr' and 'eigen' are compatible with shrinkage.\n",
      "\n"
     ]
    }
   ],
   "execution_count": 11
  },
  {
   "metadata": {},
   "cell_type": "markdown",
   "source": "## 4.2.1. Linear Discriminant Analysis – Coefficients",
   "id": "50048f60302f30a9"
  },
  {
   "metadata": {
    "ExecuteTime": {
     "end_time": "2025-04-30T00:50:59.838679Z",
     "start_time": "2025-04-30T00:50:59.658897Z"
    }
   },
   "cell_type": "code",
   "source": [
    "# Initialize LDA using 'lsqr' and fit to training data:\n",
    "clf = LDA(shrinkage=0.005,solver='lsqr')\n",
    "clf.fit(X_train_scale,y_train)\n",
    "\n",
    "print('\\n** NOTE: LDA does not drive coefficients to zero like Lasso (as seen above in block 4.1.1). **\\n')\n",
    "# Bar Plot of resulting COEF_s:\n",
    "coefs = pd.Series(clf.coef_[0],X.columns).sort_values()\n",
    "coefs.plot(kind='bar',color='turquoise')\n",
    "plt.xticks(rotation=90)\n",
    "plt.ylabel('Coefficients')\n",
    "plt.title('LDA(solver=\\'lsqr\\',shrinkage=0.005) Regularization Coefficients')\n",
    "plt.tight_layout()\n",
    "plt.show()\n",
    "plt.clf()\n",
    "\n",
    "# Selecting features based on the absolute value of the coef_ compared to a threshold:\n",
    "feature_names = list()\n",
    "feature_values = list()\n",
    "features_lda = 0\n",
    "threshold = 0.7\n",
    "for i in range(0,len(coefs)):\n",
    "    if np.abs(coefs.iloc[i]) > threshold:\n",
    "        feature_names.append(coefs.index[i])\n",
    "        feature_values.append(coefs.iloc[i])\n",
    "        features_lda += 1\n",
    "    else:\n",
    "        feature_names.append(coefs.index[i])\n",
    "        feature_values.append(0)\n",
    "\n",
    "print(f'\\nAccuracy score of LDA(solver=\"lsqr\"): \\t {clf.score(X_test_scale,y_test):.4f}')\n",
    "print('Number of features with coefs > 0.7: \\t', features_lda,'\\n')\n",
    "\n",
    "\n",
    "# Plot of the 19 Features Selected by LDA:\n",
    "plot_lda = pd.Series(feature_values,index=feature_names)\n",
    "plot_lda.plot(kind='bar',color='green')\n",
    "plt.xlabel('Features')\n",
    "plt.ylabel('Coefficients')\n",
    "plt.title('LDA Coefficients of the 19 Selected Features')\n",
    "plt.tight_layout()\n",
    "plt.show()\n",
    "plt.clf()\n",
    "\n",
    "print('\\nExample coefficients for radius1, radius2, radius3: ',)\n",
    "print('radius1 coef: \\t', coefs['radius1'].round(3))\n",
    "print('radius2 coef: \\t', coefs['radius2'].round(3))\n",
    "print('radius3 coef: \\t', coefs['radius3'].round(3))\n",
    "print('\\n')\n"
   ],
   "id": "4212fe944b1de272",
   "outputs": [
    {
     "name": "stdout",
     "output_type": "stream",
     "text": [
      "\n",
      "** NOTE: LDA does not drive coefficients to zero like Lasso (as seen above in block 4.1.1). **\n",
      "\n"
     ]
    },
    {
     "data": {
      "text/plain": [
       "<Figure size 640x480 with 1 Axes>"
      ],
      "image/png": "[encoded data removed]"
     },
     "metadata": {},
     "output_type": "display_data"
    },
    {
     "name": "stdout",
     "output_type": "stream",
     "text": [
      "\n",
      "Accuracy score of LDA(solver=\"lsqr\"): \t 0.9825\n",
      "Number of features with coefs > 0.7: \t 19 \n",
      "\n"
     ]
    },
    {
     "data": {
      "text/plain": [
       "<Figure size 640x480 with 1 Axes>"
      ],
      "image/png": "[encoded data removed]"
     },
     "metadata": {},
     "output_type": "display_data"
    },
    {
     "name": "stdout",
     "output_type": "stream",
     "text": [
      "\n",
      "Example coefficients for radius1, radius2, radius3: \n",
      "radius1 coef: \t 1.619\n",
      "radius2 coef: \t 3.28\n",
      "radius3 coef: \t 5.72\n",
      "\n",
      "\n"
     ]
    },
    {
     "data": {
      "text/plain": [
       "<Figure size 640x480 with 0 Axes>"
      ]
     },
     "metadata": {},
     "output_type": "display_data"
    }
   ],
   "execution_count": 12
  },
  {
   "metadata": {},
   "cell_type": "markdown",
   "source": [
    "## 4.2.2 Linear Discriminant Analysis – Feature Selection\n",
    "*<div style=\"font-size:16px;color:lightpink\"> *Note: Defining new LDA features training / testing sets as* **X_LDA_train** *and* **X_LDA_test** </div>*"
   ],
   "id": "60371c83f2629cb1"
  },
  {
   "metadata": {
    "ExecuteTime": {
     "end_time": "2025-04-30T00:50:59.872595Z",
     "start_time": "2025-04-30T00:50:59.866166Z"
    }
   },
   "cell_type": "code",
   "source": [
    "# Initialize scaled training and testing data:\n",
    "scaler = StandardScaler()\n",
    "X_train_scale = scaler.fit_transform(X_train)\n",
    "X_test_scale = scaler.transform(X_test)\n",
    "\n",
    "# Initialize LDA and fit to training data:\n",
    "clf = LDA(shrinkage=0.005,solver='lsqr')\n",
    "clf.fit(X_train_scale,y_train)\n",
    "\n",
    "# Define new training and testing sets as X_LDA_train, X_LDA_test\n",
    "X_train_scale = pd.DataFrame(X_train_scale,columns=X.columns)\n",
    "X_LDA_train = X_train_scale[X_train_scale.columns[np.abs(clf.coef_[0]) > 0.7]]\n",
    "X_test_scale = pd.DataFrame(X_test_scale,columns=X.columns)\n",
    "X_LDA_test = X_test_scale[X_test_scale.columns[np.abs(clf.coef_[0]) > 0.7]]\n",
    "\n",
    "## DON'T fall for this trap!\n",
    "# X_LDA_test = X_test_scale[X_test_scale.columns[coefs.abs() > 0.7]]\n",
    "## Using coefs.abs() with load the incorrect features due to the sort_values() called on coefs.\n",
    "## Instead reference the original clf.coef_ as it has maintained its index order.\n",
    "\n",
    "## Checking for expected features\n",
    "# print(X_LDA_train.head())\n",
    "print('\\n')\n",
    "print('X_LDA_train shape:\\t',X_LDA_train.shape)\n",
    "print('X_LDA_test shape:\\t',X_LDA_test.shape)"
   ],
   "id": "f003eaabd98b7e1f",
   "outputs": [
    {
     "name": "stdout",
     "output_type": "stream",
     "text": [
      "\n",
      "\n",
      "X_LDA_train shape:\t (455, 19)\n",
      "X_LDA_test shape:\t (114, 19)\n"
     ]
    }
   ],
   "execution_count": 13
  },
  {
   "metadata": {},
   "cell_type": "markdown",
   "source": [
    "## 4.2.3. Linear Discriminant Analysis – Validating Feature Selection with RFC\n",
    "*Runtime approx. 13 Seconds with 50 loops:*"
   ],
   "id": "a5e812fe298a7843"
  },
  {
   "metadata": {
    "ExecuteTime": {
     "end_time": "2025-04-30T00:51:11.454760Z",
     "start_time": "2025-04-30T00:50:59.900957Z"
    }
   },
   "cell_type": "code",
   "source": [
    "# Compare the performance of RandomForestClassifier on X_LDA_train and X_LDA_test VS full feature set.\n",
    "print('\\n')\n",
    "# Loop to fit RFC with LDA features and the Full features set, 50 times:\n",
    "# About 15 sec runtime with 50 loop runs.\n",
    "rfc_list = list()\n",
    "for i in range(1,51):\n",
    "    # LDA FEATURE SET:\n",
    "    clf_validate1 = RandomForestClassifier(random_state=i+1,max_depth=10,n_estimators=150)\n",
    "    clf_validate1.fit(X_LDA_train,y_train)\n",
    "    LDA_score = clf_validate1.score(X_LDA_test,y_test)\n",
    "    # FULL FEATURE SET:\n",
    "    clf_validate2 = RandomForestClassifier(random_state=i+1,max_depth=10,n_estimators=150)\n",
    "    clf_validate2.fit(X_train_scale,y_train)\n",
    "    full_score = clf_validate2.score(X_test_scale,y_test)\n",
    "    # APPEND\n",
    "    rfc_list.append([i+1,LDA_score,full_score])\n",
    "\n",
    "c_names = ['random_state','LDA_score','full_score']\n",
    "scores_df = pd.DataFrame(rfc_list,columns=c_names)\n",
    "print(f'RFC LDA Avg Score: \\t{scores_df[\"LDA_score\"].mean():.4f}')\n",
    "print(f'RFC Full Avg Score:\\t{scores_df[\"full_score\"].mean():.4f}')\n",
    "print(f'RFC LDA Std Dev:   \\t{scores_df[\"LDA_score\"].std():.4f}')\n",
    "print(f'RFC Full Std Dev:  \\t{scores_df[\"full_score\"].std():.4f}')\n",
    "\n",
    "## The LDA feature set is underperforming compared to Lasso Features\n"
   ],
   "id": "405c39489ebbd7d8",
   "outputs": [
    {
     "name": "stdout",
     "output_type": "stream",
     "text": [
      "\n",
      "\n",
      "RFC LDA Avg Score: \t0.9051\n",
      "RFC Full Avg Score:\t0.9225\n",
      "RFC LDA Std Dev:   \t0.0034\n",
      "RFC Full Std Dev:  \t0.0105\n"
     ]
    }
   ],
   "execution_count": 14
  },
  {
   "metadata": {},
   "cell_type": "markdown",
   "source": "## 4.2.4. Linear Discriminant Analysis – Validating Feature Selection with SGDClassifier",
   "id": "6b80826a7a8a0a90"
  },
  {
   "metadata": {
    "ExecuteTime": {
     "end_time": "2025-04-30T00:51:11.619280Z",
     "start_time": "2025-04-30T00:51:11.485806Z"
    }
   },
   "cell_type": "code",
   "source": [
    "# Compare the performance of SGDClassifier on X_LDA_train and X_LDA_test VS full feature set:\n",
    "print('\\n')\n",
    "# Loop to fit SGDClassifier with LDA features and full features set, 50 times:\n",
    "sgd_list = list()\n",
    "for i in range(1,51):\n",
    "    # Fit and score the LDA feature set:\n",
    "    clf_validate1 = SGDClassifier(random_state=i+1,loss='log_loss',penalty='l2',alpha=0.01)\n",
    "    clf_validate1.fit(X_LDA_train,y_train)\n",
    "    LDA_score = clf_validate1.score(X_LDA_test,y_test)\n",
    "    # Fit and score the full feature set:\n",
    "    clf_validate2 = SGDClassifier(random_state=i+1,loss='log_loss',penalty='l2',alpha=0.01)\n",
    "    clf_validate2.fit(X_train_scale,y_train)\n",
    "    full_score = clf_validate2.score(X_test_scale,y_test)\n",
    "    # APPEND\n",
    "    sgd_list.append([i+1,LDA_score,full_score])\n",
    "\n",
    "\n",
    "c_names = ['random_state','LDA_score','full_score']\n",
    "scores_df = pd.DataFrame(sgd_list,columns=c_names)\n",
    "print(f'SGDC LDA Avg Score: \\t{scores_df[\"LDA_score\"].mean():.4f}')\n",
    "print(f'SGDC Full Avg Score:\\t{scores_df[\"full_score\"].mean():.4f}')\n",
    "print(f'SGDC LDA Std Dev:   \\t{scores_df[\"LDA_score\"].std():.4f}')\n",
    "print(f'SGDC Full Std Dev:  \\t{scores_df[\"full_score\"].std():.4f}')\n",
    "\n",
    "# The LDA feature set is underperforming compared to Lasso Features"
   ],
   "id": "46d4bc7c0d1f97d8",
   "outputs": [
    {
     "name": "stdout",
     "output_type": "stream",
     "text": [
      "\n",
      "\n",
      "SGDC LDA Avg Score: \t0.9691\n",
      "SGDC Full Avg Score:\t0.9889\n",
      "SGDC LDA Std Dev:   \t0.0054\n",
      "SGDC Full Std Dev:  \t0.0053\n"
     ]
    }
   ],
   "execution_count": 15
  },
  {
   "metadata": {},
   "cell_type": "markdown",
   "source": [
    "## 4.9. Prepare Classifier Switching Class:\n",
    "*A helper class to allow for trialing multiple classifier models in one pipeline.*"
   ],
   "id": "81b4a04ca90408b"
  },
  {
   "metadata": {
    "ExecuteTime": {
     "end_time": "2025-04-30T00:51:11.650337Z",
     "start_time": "2025-04-30T00:51:11.647709Z"
    }
   },
   "cell_type": "code",
   "source": [
    "from sklearn.base import BaseEstimator\n",
    "from sklearn.linear_model import SGDClassifier\n",
    "\n",
    "class ClfSwitch(BaseEstimator):\n",
    "    def __init__(self, estimator=SGDClassifier()):\n",
    "        self.estimator = estimator\n",
    "    def fit(self,xx,yy=None,**kwargs):\n",
    "        self.estimator.fit(xx,yy)\n",
    "        return self\n",
    "    def predict(self,xx,yy=None):\n",
    "        return self.estimator.predict(xx)\n",
    "    def predict_proba(self,xx,yy=None):\n",
    "        return self.estimator.predict_proba(xx)\n",
    "    def score(self,xx,yy):\n",
    "        return self.estimator.score(xx,yy)"
   ],
   "id": "31f9df50be20e6cf",
   "outputs": [],
   "execution_count": 16
  },
  {
   "metadata": {},
   "cell_type": "markdown",
   "source": "## 5. Define Pipeline / Preprocessor / Search_space",
   "id": "ba831541f3d498e"
  },
  {
   "metadata": {
    "ExecuteTime": {
     "end_time": "2025-04-30T00:51:11.678589Z",
     "start_time": "2025-04-30T00:51:11.675945Z"
    }
   },
   "cell_type": "code",
   "source": [
    "scaler = StandardScaler()\n",
    "\n",
    "# Scale incoming data.\n",
    "# No need to impute because data was verified as complete.\n",
    "preprocessor = ColumnTransformer([\n",
    "    ('scaler', scaler, X_train.columns)\n",
    "])\n",
    "\n",
    "# Define a pipeline for GridSearchCV and RandomizedSearchCV,\n",
    "# using the preprocessor and ClfSwitch class defined above:\n",
    "pipeline = Pipeline([\n",
    "    ('preprocessor', preprocessor),\n",
    "    ('clf', ClfSwitch())\n",
    "])\n",
    "\n",
    "# Define search_space for use in GridSearchCV and RandomizedSearchCV.\n",
    "# Lists all the possible parameter values to select/optimize:\n",
    "search_space = [\n",
    "    {'clf__estimator': [RandomForestClassifier(random_state=13)],\n",
    "     'clf__estimator__max_depth':[10,15,25],\n",
    "     'clf__estimator__n_estimators':[150,200,250],\n",
    "     },\n",
    "    {'clf__estimator': [GradientBoostingClassifier(random_state=13)],\n",
    "     'clf__estimator__learning_rate':[0.001,0.01,0.1],\n",
    "     'clf__estimator__n_estimators':[150,200,250],\n",
    "     },\n",
    "    {'clf__estimator': [SGDClassifier(random_state=13)],\n",
    "     'clf__estimator__loss': ['hinge','log_loss'],\n",
    "     'clf__estimator__alpha': [0.001,0.005,0.01],\n",
    "     'clf__estimator__penalty': ['l2']\n",
    "     }\n",
    "]"
   ],
   "id": "562410bdffa1d61a",
   "outputs": [],
   "execution_count": 17
  },
  {
   "metadata": {},
   "cell_type": "markdown",
   "source": [
    "## 6. GridSearchCV Implementation &#8594; Analyze Results and Prepare to Tune Hyperparameters\n",
    "*About 30 sec runtime with current search_space (9,9,6)*"
   ],
   "id": "5457c908ec2c1609"
  },
  {
   "metadata": {
    "ExecuteTime": {
     "end_time": "2025-04-30T00:51:38.642214Z",
     "start_time": "2025-04-30T00:51:11.710903Z"
    }
   },
   "cell_type": "code",
   "source": [
    "# USE sklearn version 1.5.2 to suppress FutureWarning during fit:\n",
    "gs = GridSearchCV(estimator=pipeline, param_grid=search_space, cv=5, error_score='raise')\n",
    "gs.fit(X_train, y_train)\n",
    "\n",
    "# Load the best estimator:\n",
    "gs_best = gs.best_estimator_\n",
    "\n",
    "# Load the best classifier:\n",
    "gs_best_clf = gs_best.named_steps['clf']\n",
    "\n",
    "print('\\n')\n",
    "# Print the best classifier's estimator:\n",
    "print(gs_best_clf.get_params()['estimator'])\n",
    "\n",
    "## Parameters can be accessed using:\n",
    "#print(gs_best_clf.get_params()['estimator__max_depth'])\n",
    "#print(gs_best_clf.get_params()['estimator__n_estimators'])\n",
    "\n",
    "# Compare the accuracy score on test data to the best_score_ (training data):\n",
    "print(f'GSCV .score() (Test Data):\\t\\t{gs_best.score(X_test, y_test):.4f}')\n",
    "print(f'GSCV .best_score_ (Training Data):\\t{gs.best_score_:.4f}')"
   ],
   "id": "3e17129a31b1e9a6",
   "outputs": [
    {
     "name": "stdout",
     "output_type": "stream",
     "text": [
      "\n",
      "\n",
      "SGDClassifier(alpha=0.01, random_state=13)\n",
      "GSCV .score() (Test Data):\t\t0.9649\n",
      "GSCV .best_score_ (Training Data):\t0.9736\n"
     ]
    }
   ],
   "execution_count": 18
  },
  {
   "metadata": {},
   "cell_type": "markdown",
   "source": "## 6.1. Feature Analysis using cv_results_",
   "id": "af7b6f6b386d45f6"
  },
  {
   "metadata": {
    "ExecuteTime": {
     "end_time": "2025-04-30T00:51:38.701459Z",
     "start_time": "2025-04-30T00:51:38.689707Z"
    }
   },
   "cell_type": "code",
   "source": [
    "# Used .cv_results_ to create a dataframe of the results:\n",
    "cv_df = pd.DataFrame(gs.cv_results_)\n",
    "\n",
    "columns_interest = [\n",
    "    'param_clf__estimator',\n",
    "    'param_clf__estimator__max_depth',\n",
    "    'param_clf__estimator__n_estimators',\n",
    "    'param_clf__estimator__loss',\n",
    "    'param_clf__estimator__penalty',\n",
    "    'param_clf__estimator__alpha',\n",
    "    'mean_test_score',\n",
    "    'std_test_score',\n",
    "    'rank_test_score']\n",
    "\n",
    "cv_df_results = cv_df[columns_interest].round(3)\n",
    "print('\\n')\n",
    "cv_df_results"
   ],
   "id": "c4c5dec7056495d0",
   "outputs": [
    {
     "name": "stdout",
     "output_type": "stream",
     "text": [
      "\n",
      "\n"
     ]
    },
    {
     "data": {
      "text/plain": [
       "                           param_clf__estimator  \\\n",
       "0       RandomForestClassifier(random_state=13)   \n",
       "1       RandomForestClassifier(random_state=13)   \n",
       "2       RandomForestClassifier(random_state=13)   \n",
       "3       RandomForestClassifier(random_state=13)   \n",
       "4       RandomForestClassifier(random_state=13)   \n",
       "5       RandomForestClassifier(random_state=13)   \n",
       "6       RandomForestClassifier(random_state=13)   \n",
       "7       RandomForestClassifier(random_state=13)   \n",
       "8       RandomForestClassifier(random_state=13)   \n",
       "9   GradientBoostingClassifier(random_state=13)   \n",
       "10  GradientBoostingClassifier(random_state=13)   \n",
       "11  GradientBoostingClassifier(random_state=13)   \n",
       "12  GradientBoostingClassifier(random_state=13)   \n",
       "13  GradientBoostingClassifier(random_state=13)   \n",
       "14  GradientBoostingClassifier(random_state=13)   \n",
       "15  GradientBoostingClassifier(random_state=13)   \n",
       "16  GradientBoostingClassifier(random_state=13)   \n",
       "17  GradientBoostingClassifier(random_state=13)   \n",
       "18               SGDClassifier(random_state=13)   \n",
       "19               SGDClassifier(random_state=13)   \n",
       "20               SGDClassifier(random_state=13)   \n",
       "21               SGDClassifier(random_state=13)   \n",
       "22               SGDClassifier(random_state=13)   \n",
       "23               SGDClassifier(random_state=13)   \n",
       "\n",
       "    param_clf__estimator__max_depth  param_clf__estimator__n_estimators  \\\n",
       "0                              10.0                               150.0   \n",
       "1                              10.0                               200.0   \n",
       "2                              10.0                               250.0   \n",
       "3                              15.0                               150.0   \n",
       "4                              15.0                               200.0   \n",
       "5                              15.0                               250.0   \n",
       "6                              25.0                               150.0   \n",
       "7                              25.0                               200.0   \n",
       "8                              25.0                               250.0   \n",
       "9                               NaN                               150.0   \n",
       "10                              NaN                               200.0   \n",
       "11                              NaN                               250.0   \n",
       "12                              NaN                               150.0   \n",
       "13                              NaN                               200.0   \n",
       "14                              NaN                               250.0   \n",
       "15                              NaN                               150.0   \n",
       "16                              NaN                               200.0   \n",
       "17                              NaN                               250.0   \n",
       "18                              NaN                                 NaN   \n",
       "19                              NaN                                 NaN   \n",
       "20                              NaN                                 NaN   \n",
       "21                              NaN                                 NaN   \n",
       "22                              NaN                                 NaN   \n",
       "23                              NaN                                 NaN   \n",
       "\n",
       "   param_clf__estimator__loss param_clf__estimator__penalty  \\\n",
       "0                         NaN                           NaN   \n",
       "1                         NaN                           NaN   \n",
       "2                         NaN                           NaN   \n",
       "3                         NaN                           NaN   \n",
       "4                         NaN                           NaN   \n",
       "5                         NaN                           NaN   \n",
       "6                         NaN                           NaN   \n",
       "7                         NaN                           NaN   \n",
       "8                         NaN                           NaN   \n",
       "9                         NaN                           NaN   \n",
       "10                        NaN                           NaN   \n",
       "11                        NaN                           NaN   \n",
       "12                        NaN                           NaN   \n",
       "13                        NaN                           NaN   \n",
       "14                        NaN                           NaN   \n",
       "15                        NaN                           NaN   \n",
       "16                        NaN                           NaN   \n",
       "17                        NaN                           NaN   \n",
       "18                      hinge                            l2   \n",
       "19                   log_loss                            l2   \n",
       "20                      hinge                            l2   \n",
       "21                   log_loss                            l2   \n",
       "22                      hinge                            l2   \n",
       "23                   log_loss                            l2   \n",
       "\n",
       "    param_clf__estimator__alpha  mean_test_score  std_test_score  \\\n",
       "0                           NaN            0.954           0.018   \n",
       "1                           NaN            0.956           0.018   \n",
       "2                           NaN            0.958           0.015   \n",
       "3                           NaN            0.954           0.018   \n",
       "4                           NaN            0.956           0.018   \n",
       "5                           NaN            0.958           0.015   \n",
       "6                           NaN            0.954           0.018   \n",
       "7                           NaN            0.956           0.018   \n",
       "8                           NaN            0.958           0.015   \n",
       "9                           NaN            0.613           0.036   \n",
       "10                          NaN            0.677           0.153   \n",
       "11                          NaN            0.932           0.044   \n",
       "12                          NaN            0.943           0.030   \n",
       "13                          NaN            0.943           0.028   \n",
       "14                          NaN            0.941           0.024   \n",
       "15                          NaN            0.954           0.019   \n",
       "16                          NaN            0.956           0.014   \n",
       "17                          NaN            0.958           0.013   \n",
       "18                        0.001            0.969           0.011   \n",
       "19                        0.001            0.969           0.013   \n",
       "20                        0.005            0.969           0.015   \n",
       "21                        0.005            0.974           0.009   \n",
       "22                        0.010            0.974           0.013   \n",
       "23                        0.010            0.971           0.011   \n",
       "\n",
       "    rank_test_score  \n",
       "0                15  \n",
       "1                11  \n",
       "2                 7  \n",
       "3                15  \n",
       "4                11  \n",
       "5                 7  \n",
       "6                15  \n",
       "7                11  \n",
       "8                 7  \n",
       "9                24  \n",
       "10               23  \n",
       "11               22  \n",
       "12               19  \n",
       "13               19  \n",
       "14               21  \n",
       "15               15  \n",
       "16               11  \n",
       "17                7  \n",
       "18                4  \n",
       "19                4  \n",
       "20                4  \n",
       "21                2  \n",
       "22                1  \n",
       "23                3  "
      ],
      "text/html": [
       "<div>\n",
       "<style scoped>\n",
       "    .dataframe tbody tr th:only-of-type {\n",
       "        vertical-align: middle;\n",
       "    }\n",
       "\n",
       "    .dataframe tbody tr th {\n",
       "        vertical-align: top;\n",
       "    }\n",
       "\n",
       "    .dataframe thead th {\n",
       "        text-align: right;\n",
       "    }\n",
       "</style>\n",
       "<table border=\"1\" class=\"dataframe\">\n",
       "  <thead>\n",
       "    <tr style=\"text-align: right;\">\n",
       "      <th></th>\n",
       "      <th>param_clf__estimator</th>\n",
       "      <th>param_clf__estimator__max_depth</th>\n",
       "      <th>param_clf__estimator__n_estimators</th>\n",
       "      <th>param_clf__estimator__loss</th>\n",
       "      <th>param_clf__estimator__penalty</th>\n",
       "      <th>param_clf__estimator__alpha</th>\n",
       "      <th>mean_test_score</th>\n",
       "      <th>std_test_score</th>\n",
       "      <th>rank_test_score</th>\n",
       "    </tr>\n",
       "  </thead>\n",
       "  <tbody>\n",
       "    <tr>\n",
       "      <th>0</th>\n",
       "      <td>RandomForestClassifier(random_state=13)</td>\n",
       "      <td>10.0</td>\n",
       "      <td>150.0</td>\n",
       "      <td>NaN</td>\n",
       "      <td>NaN</td>\n",
       "      <td>NaN</td>\n",
       "      <td>0.954</td>\n",
       "      <td>0.018</td>\n",
       "      <td>15</td>\n",
       "    </tr>\n",
       "    <tr>\n",
       "      <th>1</th>\n",
       "      <td>RandomForestClassifier(random_state=13)</td>\n",
       "      <td>10.0</td>\n",
       "      <td>200.0</td>\n",
       "      <td>NaN</td>\n",
       "      <td>NaN</td>\n",
       "      <td>NaN</td>\n",
       "      <td>0.956</td>\n",
       "      <td>0.018</td>\n",
       "      <td>11</td>\n",
       "    </tr>\n",
       "    <tr>\n",
       "      <th>2</th>\n",
       "      <td>RandomForestClassifier(random_state=13)</td>\n",
       "      <td>10.0</td>\n",
       "      <td>250.0</td>\n",
       "      <td>NaN</td>\n",
       "      <td>NaN</td>\n",
       "      <td>NaN</td>\n",
       "      <td>0.958</td>\n",
       "      <td>0.015</td>\n",
       "      <td>7</td>\n",
       "    </tr>\n",
       "    <tr>\n",
       "      <th>3</th>\n",
       "      <td>RandomForestClassifier(random_state=13)</td>\n",
       "      <td>15.0</td>\n",
       "      <td>150.0</td>\n",
       "      <td>NaN</td>\n",
       "      <td>NaN</td>\n",
       "      <td>NaN</td>\n",
       "      <td>0.954</td>\n",
       "      <td>0.018</td>\n",
       "      <td>15</td>\n",
       "    </tr>\n",
       "    <tr>\n",
       "      <th>4</th>\n",
       "      <td>RandomForestClassifier(random_state=13)</td>\n",
       "      <td>15.0</td>\n",
       "      <td>200.0</td>\n",
       "      <td>NaN</td>\n",
       "      <td>NaN</td>\n",
       "      <td>NaN</td>\n",
       "      <td>0.956</td>\n",
       "      <td>0.018</td>\n",
       "      <td>11</td>\n",
       "    </tr>\n",
       "    <tr>\n",
       "      <th>5</th>\n",
       "      <td>RandomForestClassifier(random_state=13)</td>\n",
       "      <td>15.0</td>\n",
       "      <td>250.0</td>\n",
       "      <td>NaN</td>\n",
       "      <td>NaN</td>\n",
       "      <td>NaN</td>\n",
       "      <td>0.958</td>\n",
       "      <td>0.015</td>\n",
       "      <td>7</td>\n",
       "    </tr>\n",
       "    <tr>\n",
       "      <th>6</th>\n",
       "      <td>RandomForestClassifier(random_state=13)</td>\n",
       "      <td>25.0</td>\n",
       "      <td>150.0</td>\n",
       "      <td>NaN</td>\n",
       "      <td>NaN</td>\n",
       "      <td>NaN</td>\n",
       "      <td>0.954</td>\n",
       "      <td>0.018</td>\n",
       "      <td>15</td>\n",
       "    </tr>\n",
       "    <tr>\n",
       "      <th>7</th>\n",
       "      <td>RandomForestClassifier(random_state=13)</td>\n",
       "      <td>25.0</td>\n",
       "      <td>200.0</td>\n",
       "      <td>NaN</td>\n",
       "      <td>NaN</td>\n",
       "      <td>NaN</td>\n",
       "      <td>0.956</td>\n",
       "      <td>0.018</td>\n",
       "      <td>11</td>\n",
       "    </tr>\n",
       "    <tr>\n",
       "      <th>8</th>\n",
       "      <td>RandomForestClassifier(random_state=13)</td>\n",
       "      <td>25.0</td>\n",
       "      <td>250.0</td>\n",
       "      <td>NaN</td>\n",
       "      <td>NaN</td>\n",
       "      <td>NaN</td>\n",
       "      <td>0.958</td>\n",
       "      <td>0.015</td>\n",
       "      <td>7</td>\n",
       "    </tr>\n",
       "    <tr>\n",
       "      <th>9</th>\n",
       "      <td>GradientBoostingClassifier(random_state=13)</td>\n",
       "      <td>NaN</td>\n",
       "      <td>150.0</td>\n",
       "      <td>NaN</td>\n",
       "      <td>NaN</td>\n",
       "      <td>NaN</td>\n",
       "      <td>0.613</td>\n",
       "      <td>0.036</td>\n",
       "      <td>24</td>\n",
       "    </tr>\n",
       "    <tr>\n",
       "      <th>10</th>\n",
       "      <td>GradientBoostingClassifier(random_state=13)</td>\n",
       "      <td>NaN</td>\n",
       "      <td>200.0</td>\n",
       "      <td>NaN</td>\n",
       "      <td>NaN</td>\n",
       "      <td>NaN</td>\n",
       "      <td>0.677</td>\n",
       "      <td>0.153</td>\n",
       "      <td>23</td>\n",
       "    </tr>\n",
       "    <tr>\n",
       "      <th>11</th>\n",
       "      <td>GradientBoostingClassifier(random_state=13)</td>\n",
       "      <td>NaN</td>\n",
       "      <td>250.0</td>\n",
       "      <td>NaN</td>\n",
       "      <td>NaN</td>\n",
       "      <td>NaN</td>\n",
       "      <td>0.932</td>\n",
       "      <td>0.044</td>\n",
       "      <td>22</td>\n",
       "    </tr>\n",
       "    <tr>\n",
       "      <th>12</th>\n",
       "      <td>GradientBoostingClassifier(random_state=13)</td>\n",
       "      <td>NaN</td>\n",
       "      <td>150.0</td>\n",
       "      <td>NaN</td>\n",
       "      <td>NaN</td>\n",
       "      <td>NaN</td>\n",
       "      <td>0.943</td>\n",
       "      <td>0.030</td>\n",
       "      <td>19</td>\n",
       "    </tr>\n",
       "    <tr>\n",
       "      <th>13</th>\n",
       "      <td>GradientBoostingClassifier(random_state=13)</td>\n",
       "      <td>NaN</td>\n",
       "      <td>200.0</td>\n",
       "      <td>NaN</td>\n",
       "      <td>NaN</td>\n",
       "      <td>NaN</td>\n",
       "      <td>0.943</td>\n",
       "      <td>0.028</td>\n",
       "      <td>19</td>\n",
       "    </tr>\n",
       "    <tr>\n",
       "      <th>14</th>\n",
       "      <td>GradientBoostingClassifier(random_state=13)</td>\n",
       "      <td>NaN</td>\n",
       "      <td>250.0</td>\n",
       "      <td>NaN</td>\n",
       "      <td>NaN</td>\n",
       "      <td>NaN</td>\n",
       "      <td>0.941</td>\n",
       "      <td>0.024</td>\n",
       "      <td>21</td>\n",
       "    </tr>\n",
       "    <tr>\n",
       "      <th>15</th>\n",
       "      <td>GradientBoostingClassifier(random_state=13)</td>\n",
       "      <td>NaN</td>\n",
       "      <td>150.0</td>\n",
       "      <td>NaN</td>\n",
       "      <td>NaN</td>\n",
       "      <td>NaN</td>\n",
       "      <td>0.954</td>\n",
       "      <td>0.019</td>\n",
       "      <td>15</td>\n",
       "    </tr>\n",
       "    <tr>\n",
       "      <th>16</th>\n",
       "      <td>GradientBoostingClassifier(random_state=13)</td>\n",
       "      <td>NaN</td>\n",
       "      <td>200.0</td>\n",
       "      <td>NaN</td>\n",
       "      <td>NaN</td>\n",
       "      <td>NaN</td>\n",
       "      <td>0.956</td>\n",
       "      <td>0.014</td>\n",
       "      <td>11</td>\n",
       "    </tr>\n",
       "    <tr>\n",
       "      <th>17</th>\n",
       "      <td>GradientBoostingClassifier(random_state=13)</td>\n",
       "      <td>NaN</td>\n",
       "      <td>250.0</td>\n",
       "      <td>NaN</td>\n",
       "      <td>NaN</td>\n",
       "      <td>NaN</td>\n",
       "      <td>0.958</td>\n",
       "      <td>0.013</td>\n",
       "      <td>7</td>\n",
       "    </tr>\n",
       "    <tr>\n",
       "      <th>18</th>\n",
       "      <td>SGDClassifier(random_state=13)</td>\n",
       "      <td>NaN</td>\n",
       "      <td>NaN</td>\n",
       "      <td>hinge</td>\n",
       "      <td>l2</td>\n",
       "      <td>0.001</td>\n",
       "      <td>0.969</td>\n",
       "      <td>0.011</td>\n",
       "      <td>4</td>\n",
       "    </tr>\n",
       "    <tr>\n",
       "      <th>19</th>\n",
       "      <td>SGDClassifier(random_state=13)</td>\n",
       "      <td>NaN</td>\n",
       "      <td>NaN</td>\n",
       "      <td>log_loss</td>\n",
       "      <td>l2</td>\n",
       "      <td>0.001</td>\n",
       "      <td>0.969</td>\n",
       "      <td>0.013</td>\n",
       "      <td>4</td>\n",
       "    </tr>\n",
       "    <tr>\n",
       "      <th>20</th>\n",
       "      <td>SGDClassifier(random_state=13)</td>\n",
       "      <td>NaN</td>\n",
       "      <td>NaN</td>\n",
       "      <td>hinge</td>\n",
       "      <td>l2</td>\n",
       "      <td>0.005</td>\n",
       "      <td>0.969</td>\n",
       "      <td>0.015</td>\n",
       "      <td>4</td>\n",
       "    </tr>\n",
       "    <tr>\n",
       "      <th>21</th>\n",
       "      <td>SGDClassifier(random_state=13)</td>\n",
       "      <td>NaN</td>\n",
       "      <td>NaN</td>\n",
       "      <td>log_loss</td>\n",
       "      <td>l2</td>\n",
       "      <td>0.005</td>\n",
       "      <td>0.974</td>\n",
       "      <td>0.009</td>\n",
       "      <td>2</td>\n",
       "    </tr>\n",
       "    <tr>\n",
       "      <th>22</th>\n",
       "      <td>SGDClassifier(random_state=13)</td>\n",
       "      <td>NaN</td>\n",
       "      <td>NaN</td>\n",
       "      <td>hinge</td>\n",
       "      <td>l2</td>\n",
       "      <td>0.010</td>\n",
       "      <td>0.974</td>\n",
       "      <td>0.013</td>\n",
       "      <td>1</td>\n",
       "    </tr>\n",
       "    <tr>\n",
       "      <th>23</th>\n",
       "      <td>SGDClassifier(random_state=13)</td>\n",
       "      <td>NaN</td>\n",
       "      <td>NaN</td>\n",
       "      <td>log_loss</td>\n",
       "      <td>l2</td>\n",
       "      <td>0.010</td>\n",
       "      <td>0.971</td>\n",
       "      <td>0.011</td>\n",
       "      <td>3</td>\n",
       "    </tr>\n",
       "  </tbody>\n",
       "</table>\n",
       "</div>"
      ]
     },
     "execution_count": 19,
     "metadata": {},
     "output_type": "execute_result"
    }
   ],
   "execution_count": 19
  },
  {
   "metadata": {},
   "cell_type": "markdown",
   "source": "## 7. Hyperparameter Tuning and Retesting models",
   "id": "84efdaa0e1c7ee1"
  },
  {
   "metadata": {
    "ExecuteTime": {
     "end_time": "2025-04-30T00:51:38.774966Z",
     "start_time": "2025-04-30T00:51:38.773146Z"
    }
   },
   "cell_type": "code",
   "source": "# BLOCK 7 In progress ...",
   "id": "db3a740f2404105f",
   "outputs": [],
   "execution_count": 20
  },
  {
   "metadata": {},
   "cell_type": "markdown",
   "source": [
    "## 7.1. Diving Deeper into RandomForestClassifier Validation\n",
    "*Using RandomForestClassifier(max_depth=10, n_estimators=150)*"
   ],
   "id": "d8802d45e86eb27b"
  },
  {
   "metadata": {
    "ExecuteTime": {
     "end_time": "2025-04-30T00:51:40.095778Z",
     "start_time": "2025-04-30T00:51:38.841436Z"
    }
   },
   "cell_type": "code",
   "source": [
    "# Modifying best rfc() to validate scores across dataset.\n",
    "score_list = list()\n",
    "\n",
    "scaler = StandardScaler()\n",
    "scaler.fit(X)\n",
    "X_train_scale = scaler.transform(X_train)\n",
    "X_test_scale = scaler.transform(X_test)\n",
    "\n",
    "# Loop to analyze for any meaningful impact of Random_state on bootstrapping in the RFC().\n",
    "for i in range(1,10):\n",
    "    clf = RandomForestClassifier(random_state=i+1,max_depth=10,n_estimators=150)\n",
    "    clf.fit(X_train_scale,y_train)\n",
    "    current_score = clf.score(X_test_scale,y_test)\n",
    "    score_list.append([i+1,current_score])\n",
    "\n",
    "c_names = ['random_state:','RFC score:']\n",
    "score_df = pd.DataFrame(score_list,columns=c_names)\n",
    "print(f'\\nRFC Score Average:\\t\\t{score_df[\"RFC score:\"].mean():.4f}')\n",
    "print(f'RFC Score Std Deviation:\\t{score_df[\"RFC score:\"].std():.4f}')\n",
    "# No indication that Random_state had a meaningful impact on our accuracy scores.\n",
    "\n",
    "from time import perf_counter as tpc\n",
    "\n",
    "start = tpc()\n",
    "clf = RandomForestClassifier(random_state=11,max_depth=10,n_estimators=150)\n",
    "clf.fit(X_train_scale,y_train)\n",
    "current_score = clf.score(X_test_scale,y_test)\n",
    "end = tpc()\n",
    "print(f'\\nRFC fit & score time: \\t\\t{((end - start) * 1000):.4f} ms')\n",
    "print('\\n')\n",
    "\n",
    "score_df"
   ],
   "id": "f174068f62bde7f5",
   "outputs": [
    {
     "name": "stdout",
     "output_type": "stream",
     "text": [
      "\n",
      "RFC Score Average:\t\t0.9250\n",
      "RFC Score Std Deviation:\t0.0146\n",
      "\n",
      "RFC fit & score time: \t\t123.2735 ms\n",
      "\n",
      "\n"
     ]
    },
    {
     "data": {
      "text/plain": [
       "   random_state:  RFC score:\n",
       "0              2    0.912281\n",
       "1              3    0.912281\n",
       "2              4    0.912281\n",
       "3              5    0.921053\n",
       "4              6    0.929825\n",
       "5              7    0.929825\n",
       "6              8    0.912281\n",
       "7              9    0.947368\n",
       "8             10    0.947368"
      ],
      "text/html": [
       "<div>\n",
       "<style scoped>\n",
       "    .dataframe tbody tr th:only-of-type {\n",
       "        vertical-align: middle;\n",
       "    }\n",
       "\n",
       "    .dataframe tbody tr th {\n",
       "        vertical-align: top;\n",
       "    }\n",
       "\n",
       "    .dataframe thead th {\n",
       "        text-align: right;\n",
       "    }\n",
       "</style>\n",
       "<table border=\"1\" class=\"dataframe\">\n",
       "  <thead>\n",
       "    <tr style=\"text-align: right;\">\n",
       "      <th></th>\n",
       "      <th>random_state:</th>\n",
       "      <th>RFC score:</th>\n",
       "    </tr>\n",
       "  </thead>\n",
       "  <tbody>\n",
       "    <tr>\n",
       "      <th>0</th>\n",
       "      <td>2</td>\n",
       "      <td>0.912281</td>\n",
       "    </tr>\n",
       "    <tr>\n",
       "      <th>1</th>\n",
       "      <td>3</td>\n",
       "      <td>0.912281</td>\n",
       "    </tr>\n",
       "    <tr>\n",
       "      <th>2</th>\n",
       "      <td>4</td>\n",
       "      <td>0.912281</td>\n",
       "    </tr>\n",
       "    <tr>\n",
       "      <th>3</th>\n",
       "      <td>5</td>\n",
       "      <td>0.921053</td>\n",
       "    </tr>\n",
       "    <tr>\n",
       "      <th>4</th>\n",
       "      <td>6</td>\n",
       "      <td>0.929825</td>\n",
       "    </tr>\n",
       "    <tr>\n",
       "      <th>5</th>\n",
       "      <td>7</td>\n",
       "      <td>0.929825</td>\n",
       "    </tr>\n",
       "    <tr>\n",
       "      <th>6</th>\n",
       "      <td>8</td>\n",
       "      <td>0.912281</td>\n",
       "    </tr>\n",
       "    <tr>\n",
       "      <th>7</th>\n",
       "      <td>9</td>\n",
       "      <td>0.947368</td>\n",
       "    </tr>\n",
       "    <tr>\n",
       "      <th>8</th>\n",
       "      <td>10</td>\n",
       "      <td>0.947368</td>\n",
       "    </tr>\n",
       "  </tbody>\n",
       "</table>\n",
       "</div>"
      ]
     },
     "execution_count": 21,
     "metadata": {},
     "output_type": "execute_result"
    }
   ],
   "execution_count": 21
  },
  {
   "metadata": {},
   "cell_type": "markdown",
   "source": [
    "## 7.2. Diving Deeper into SGDClassifier Validation – 'hinge' vs. 'log_loss'\n",
    "*NOTE: Must scale data in this block because we are no longer using Pipeline and thus no preprocessor/scaler*\n",
    "#### *Takeaway:*\n",
    "- 'Log_Loss' outperforms 'hinge' as a loss parameter, with a higher average score (0.9895 vs. 0.9820)\n",
    "- While maintaining scored std deviation at about 0.5% and run-time around 1 ms\n",
    "- SGDClassifier SIGNIFICANTLY outperforms RandomForestClassifier for both score and run-time\n",
    "- Even better results can be achieved using Lasso L1 Regularization / feature selection with SGDC (see block 4.1.X.)"
   ],
   "id": "3e6c30a2fd0b1b21"
  },
  {
   "metadata": {
    "ExecuteTime": {
     "end_time": "2025-04-30T00:51:40.420876Z",
     "start_time": "2025-04-30T00:51:40.246701Z"
    }
   },
   "cell_type": "code",
   "source": [
    "# Modifying best SGDClassifier() to validate scores across dataset and compare loss='hinge' vs. loss='log_loss'\n",
    "score_list = list()\n",
    "\n",
    "# Cannot stress enough the importance of calling the scaler before fitting to SGDClassifer!\n",
    "scaler = StandardScaler()\n",
    "scaler.fit(X)\n",
    "X_train_scale = scaler.transform(X_train)\n",
    "X_test_scale = scaler.transform(X_test)\n",
    "\n",
    "# Loop to analyze for any meaningful impact of Random_state on SGDClassifier()\n",
    "# Using alpha=0.01, penalty='l2'\n",
    "for i in range(1,100):\n",
    "    clf = SGDClassifier(random_state=i+1,loss='hinge',alpha=0.01,penalty='l2')\n",
    "    clf.fit(X_train_scale,y_train)\n",
    "    current_score = clf.score(X_test_scale,y_test)\n",
    "    clf_log = SGDClassifier(random_state=i+1, loss='log_loss',alpha=0.01,penalty='l2')\n",
    "    clf_log.fit(X_train_scale,y_train)\n",
    "    current_score_log = clf_log.score(X_test_scale,y_test)\n",
    "    score_list.append([i+1,current_score,current_score_log])\n",
    "\n",
    "c_names = ['random_state:','SGDClassifier hinge score:','SGDClassifier log_loss score:']\n",
    "score_df = pd.DataFrame(score_list,columns=c_names)\n",
    "print(f'\\nSGDC Hinge Score Average: \\t\\t{(score_df[\"SGDClassifier hinge score:\"].mean()):.5f}')\n",
    "print(f'SGDC Log_loss Score Average:\\t\\t{(score_df[\"SGDClassifier log_loss score:\"].mean()):.5f}')\n",
    "print(f'SGDC Hinge Score Std Deviation: \\t{(score_df[\"SGDClassifier hinge score:\"].std()):.5f}')\n",
    "print(f'SGDC Log_loss Score Std Deviation:\\t{(score_df[\"SGDClassifier log_loss score:\"].std()):.5f}')\n",
    "# No difference!\n",
    "\n",
    "from time import perf_counter as tpc\n",
    "\n",
    "start = tpc()\n",
    "clf = SGDClassifier(random_state=11,loss='hinge',alpha=0.01,penalty='l2')\n",
    "clf.fit(X_train_scale,y_train)\n",
    "current_score = clf.score(X_test_scale,y_test)\n",
    "end = tpc()\n",
    "print(f'\\nSGDC \"Hinge\" fit & score time:\\t\\t{((end - start) * 1000):.4f} ms')\n",
    "\n",
    "\n",
    "start = tpc()\n",
    "clf_log = SGDClassifier(random_state=11, loss='log_loss',alpha=0.01,penalty='l2')\n",
    "clf_log.fit(X_train_scale,y_train)\n",
    "current_score_log = clf.score(X_test_scale,y_test)\n",
    "end = tpc()\n",
    "print(f'SGDC \"Log_loss\" fit & score time:\\t{((end - start) * 1000):.4f} ms')\n",
    "print('\\n')\n",
    "\n",
    "# score_df"
   ],
   "id": "e146937b356e870c",
   "outputs": [
    {
     "name": "stdout",
     "output_type": "stream",
     "text": [
      "\n",
      "SGDC Hinge Score Average: \t\t0.98201\n",
      "SGDC Log_loss Score Average:\t\t0.98954\n",
      "SGDC Hinge Score Std Deviation: \t0.00691\n",
      "SGDC Log_loss Score Std Deviation:\t0.00463\n",
      "\n",
      "SGDC \"Hinge\" fit & score time:\t\t1.0380 ms\n",
      "SGDC \"Log_loss\" fit & score time:\t1.0685 ms\n",
      "\n",
      "\n"
     ]
    }
   ],
   "execution_count": 22
  },
  {
   "metadata": {},
   "cell_type": "markdown",
   "source": [
    "## 7.3. RandomizedSearchCV Implementation\n",
    "*Note: Runtime benefits from defining n_iter parameter (default n_iter=10)*\n",
    "\n",
    "*When n_iter=5 the Runtime is 5 to 8 seconds, when n_iter=10 the Runtime is 8 to 18 seconds*"
   ],
   "id": "2f603d3e27a5b9be"
  },
  {
   "metadata": {
    "ExecuteTime": {
     "end_time": "2025-04-30T00:51:55.523011Z",
     "start_time": "2025-04-30T00:51:40.481437Z"
    }
   },
   "cell_type": "code",
   "source": [
    "# RandomizedSearchCV method:\n",
    "from sklearn.model_selection import RandomizedSearchCV\n",
    "\n",
    "## No need to initialize scaler here, the pipeline handles a preprocessor scaler.\n",
    "\n",
    "print('\\n')\n",
    "rs = RandomizedSearchCV(estimator=pipeline, param_distributions=search_space, cv=5, n_iter=10, error_score='raise')\n",
    "rs.fit(X_train, y_train)\n",
    "\n",
    "# Load the best estimator:\n",
    "rs_best = rs.best_estimator_\n",
    "# Load the best classifier:\n",
    "rs_best_clf = rs_best.named_steps['clf']\n",
    "# Print the best classifier's estimator:\n",
    "print(rs_best_clf.get_params()['estimator'])\n",
    "\n",
    "# Compare the test data score to the training data (best_score_):\n",
    "print(f'RandomizedSearchCV Best test score: \\t{rs_best.score(X_test, y_test):.4f}')\n",
    "print(f'RandomizedSearchCV Best training score:\\t{rs.best_score_:.4f}')"
   ],
   "id": "761d1b42b9750580",
   "outputs": [
    {
     "name": "stdout",
     "output_type": "stream",
     "text": [
      "\n",
      "\n",
      "SGDClassifier(alpha=0.01, loss='log_loss', random_state=13)\n",
      "RandomizedSearchCV Best test score: \t0.9912\n",
      "RandomizedSearchCV Best training score:\t0.9714\n"
     ]
    }
   ],
   "execution_count": 23
  },
  {
   "metadata": {},
   "cell_type": "markdown",
   "source": [
    "## 7.4. Retesting with SMOTE – Synthetic Minority Oversampling Technique\n",
    "- DEFINED new variables: **X_res** and **y_res** from SMOTE fit_resample() <br><br>\n",
    "- Allows for synthetic data insertion to better 'balance' the data\n",
    "- Using parameter 'sampling_strategy' as a float (ratio) – Note: this only works for binary classification."
   ],
   "id": "5f75689d56467c41"
  },
  {
   "metadata": {
    "ExecuteTime": {
     "end_time": "2025-04-30T00:51:55.739001Z",
     "start_time": "2025-04-30T00:51:55.636260Z"
    }
   },
   "cell_type": "code",
   "source": [
    "from imblearn.over_sampling import SMOTE\n",
    "\n",
    "print(f'Original Training Data Shape: \\t{X_train.shape}')\n",
    "print(f'Original Training target (y) values: \\n{y_train.value_counts()}\\n')\n",
    "\n",
    "for i in [0.77,0.88,0.99]:\n",
    "    smote = SMOTE(random_state=13,sampling_strategy=i,k_neighbors=5)\n",
    "    X_res, y_res = smote.fit_resample(X_train,y_train)\n",
    "    # print(f'SMOTE Resampled Data Shape:\\t{X_res.shape}')\n",
    "    # print(f'SMOTE target values: \\n{y_res.value_counts()}')\n",
    "    print(f'// Synthetic samples created (sampling_strategy={i}): {X_res.shape[0] - X_train.shape[0]} //')\n",
    "    print('-----------------------')\n",
    "\n",
    "print(f'SMOTE Training Data Shape:\\t{X_res.shape}')\n",
    "print(f'SMOTE Resampled target (y) values:\\n{y_res.value_counts()}\\n')\n",
    "\n",
    "## Visualizing the new synthetic data points on a plot\n",
    "# ORIGINAL TRAINING SET PLOT RADIUS3 AND AREA3 // GREEN\n",
    "plt.plot(X_train.radius3, X_train.area3, 'o', alpha=0.6,color='green')\n",
    "\n",
    "# SMOTE TRAINING SET PLOT RADIUS3 AND AREA3 // RED\n",
    "plt.plot(X_res.radius3, X_res.area3, 'o', alpha=0.3,color='red')\n",
    "plt.xlabel('radius3')\n",
    "plt.ylabel('area3')\n",
    "plt.title('SMOTE Resampled Data visualized with \"radius3\" and \"area3\"')\n",
    "plt.xlim(20,35)\n",
    "plt.xticks(np.arange(20,36,1))\n",
    "plt.tight_layout()\n",
    "plt.legend(['Original','SMOTE'])\n",
    "plt.show()\n",
    "plt.clf()"
   ],
   "id": "3e83d050c84d82a0",
   "outputs": [
    {
     "name": "stdout",
     "output_type": "stream",
     "text": [
      "Original Training Data Shape: \t(455, 30)\n",
      "Original Training target (y) values: \n",
      "Diagnosis\n",
      "0    279\n",
      "1    176\n",
      "Name: count, dtype: int64\n",
      "\n",
      "// Synthetic samples created (sampling_strategy=0.77): 38 //\n",
      "-----------------------\n",
      "// Synthetic samples created (sampling_strategy=0.88): 69 //\n",
      "-----------------------\n",
      "// Synthetic samples created (sampling_strategy=0.99): 100 //\n",
      "-----------------------\n",
      "SMOTE Training Data Shape:\t(555, 30)\n",
      "SMOTE Resampled target (y) values:\n",
      "Diagnosis\n",
      "0    279\n",
      "1    276\n",
      "Name: count, dtype: int64\n",
      "\n"
     ]
    },
    {
     "data": {
      "text/plain": [
       "<Figure size 640x480 with 1 Axes>"
      ],
      "image/png": "[encoded data removed]"
     },
     "metadata": {},
     "output_type": "display_data"
    },
    {
     "data": {
      "text/plain": [
       "<Figure size 640x480 with 0 Axes>"
      ]
     },
     "metadata": {},
     "output_type": "display_data"
    }
   ],
   "execution_count": 24
  },
  {
   "metadata": {},
   "cell_type": "markdown",
   "source": [
    "## 7.4.1. Retesting with SMOTE – Full feature set VS. Lasso feature set\n",
    "\n",
    "#### *Takeaways:*\n",
    "- SMOTE underperforms on the full data set, likely due to increased sample noise on \"unimportant\" features\n",
    "- SMOTE shines with Lasso features, beating the previous best score using SGDC with Lasso (0.9911 vs. 0.9846)\n",
    "- Std deviation is approaching 0.1%\n",
    "- BEST SCORE YET achieved using SMOTE w/ Lasso feature set and increasing SGDC alpha from (0.01) to (0.1) → 0.9912 accuracy\n",
    "- However, overfitting / underfitting should be called into question as the training and testing scores diverge"
   ],
   "id": "396c22b0611eefa1"
  },
  {
   "metadata": {
    "ExecuteTime": {
     "end_time": "2025-04-30T00:51:56.053973Z",
     "start_time": "2025-04-30T00:51:55.812615Z"
    }
   },
   "cell_type": "code",
   "source": [
    "# Initialized SMOTE and Scaler to prevent cell rerun ValueErrors when trialing\n",
    "# SMOTE 'sampling_strategies' values\n",
    "smote = SMOTE(random_state=13,sampling_strategy=0.99,k_neighbors=5)\n",
    "X_res, y_res = smote.fit_resample(X_train,y_train)\n",
    "\n",
    "scaler = StandardScaler()\n",
    "X_train_scale = scaler.fit_transform(X_train)\n",
    "X_test_scale = scaler.transform(X_test)\n",
    "X_res_scale = scaler.transform(X_res)\n",
    "\n",
    "# Loop to store score results, comparing Full feature set original data vs. SMOTE data\n",
    "compare_smote_list = list()\n",
    "for i in range(1,51):\n",
    "    clf = SGDClassifier(random_state=i+1,loss='log_loss',alpha=0.01,penalty='l2')\n",
    "    clf.fit(X_train_scale,y_train)\n",
    "    original_score = clf.score(X_test_scale,y_test)\n",
    "    clf.fit(X_res_scale,y_res)\n",
    "    smote_score = clf.score(X_test_scale,y_test) # X_test_scale is untouched by SMOTE\n",
    "    compare_smote_list.append([i,original_score,smote_score])\n",
    "\n",
    "\n",
    "c_names = ['random_state','original_score','smote_score']\n",
    "compare_smote_df = pd.DataFrame(compare_smote_list,columns=c_names)\n",
    "print('\\n// FULL Feature Set (30 features) - Original data vs. SMOTE data:')\n",
    "print(f'Original Score Average:\\t{compare_smote_df[\"original_score\"].mean():.4f}')\n",
    "print(f'SMOTE Score Average: \\t{compare_smote_df[\"smote_score\"].mean():.4f}')\n",
    "print(f'Original Score Std Deviation:\\t{compare_smote_df[\"original_score\"].std():.4f}')\n",
    "print(f'SMOTE Score Std Deviation: \\t{compare_smote_df[\"smote_score\"].std():.4f}')\n",
    "# There is no immediate obvious benefit to using SMOTE, lower average scores.\n",
    "\n",
    "# X_L_train and X_L_test are scaled above in block 4.X.\n",
    "smote = SMOTE(random_state=13,sampling_strategy=0.99,k_neighbors=5)\n",
    "X_L_res, y_res = smote.fit_resample(X_L_train,y_train)\n",
    "\n",
    "# Loop to store score results, comparing Lasso feature sets original data vs. SMOTE data\n",
    "compare_smote_L_list = list()\n",
    "for i in range(1,51):\n",
    "    clf = SGDClassifier(random_state=i+1,loss='log_loss',alpha=0.01,penalty='l2')\n",
    "    clf.fit(X_L_train,y_train)\n",
    "    original_score= clf.score(X_L_test,y_test)\n",
    "    clf.fit(X_L_res,y_res)\n",
    "    smote_L_score = clf.score(X_L_test,y_test)\n",
    "    compare_smote_L_list.append([i,original_score,smote_L_score])\n",
    "\n",
    "c_names = ['random_state','original_score','smote_L_score']\n",
    "compare_smote_L_df = pd.DataFrame(compare_smote_L_list,columns=c_names)\n",
    "print('\\n// Lasso Feature Set (19 features) - Original data vs. SMOTE data:')\n",
    "print(f'Original Score Average:\\t{compare_smote_L_df[\"original_score\"].mean():.4f}')\n",
    "print(f'SMOTE Score Average: \\t{compare_smote_L_df[\"smote_L_score\"].mean():.4f}')\n",
    "print(f'Original Score Std Deviation:\\t{compare_smote_L_df[\"original_score\"].std():.4f}')\n",
    "print(f'SMOTE Score Std Deviation: \\t{compare_smote_L_df[\"smote_L_score\"].std():.4f}')\n",
    "print(f'\\nSMOTE final loop training score: {clf.score(X_L_res,y_res):.4f}')"
   ],
   "id": "d666b100b1128928",
   "outputs": [
    {
     "name": "stdout",
     "output_type": "stream",
     "text": [
      "\n",
      "// FULL Feature Set (30 features) - Original data vs. SMOTE data:\n",
      "Original Score Average:\t0.9889\n",
      "SMOTE Score Average: \t0.9775\n",
      "Original Score Std Deviation:\t0.0053\n",
      "SMOTE Score Std Deviation: \t0.0051\n",
      "\n",
      "// Lasso Feature Set (19 features) - Original data vs. SMOTE data:\n",
      "Original Score Average:\t0.9909\n",
      "SMOTE Score Average: \t0.9911\n",
      "Original Score Std Deviation:\t0.0017\n",
      "SMOTE Score Std Deviation: \t0.0012\n",
      "\n",
      "SMOTE final loop training score: 0.9838\n"
     ]
    }
   ],
   "execution_count": 25
  },
  {
   "metadata": {},
   "cell_type": "markdown",
   "source": "## 7.4.2. Retesting with SMOTE – Pipeline Implementation",
   "id": "ad41403bb0b30231"
  },
  {
   "metadata": {
    "ExecuteTime": {
     "end_time": "2025-04-30T00:51:56.127509Z",
     "start_time": "2025-04-30T00:51:56.125403Z"
    }
   },
   "cell_type": "code",
   "source": [
    "## IN PROGRESS ...\n",
    "\n",
    "scaler = StandardScaler()\n",
    "smote = SMOTE(random_state=13,sampling_strategy=0.99,k_neighbors=5)\n",
    "lasso = Lasso(alpha=0.05)\n",
    "\n",
    "preprocessor = ColumnTransformer([\n",
    "    ('lasso', lasso, X_train.columns),\n",
    "    ('smote', smote, X_train.columns),\n",
    "    ('scaler', scaler, X_train.columns)\n",
    "])"
   ],
   "id": "1cddc72249d0b9c8",
   "outputs": [],
   "execution_count": 26
  }
 ],
 "metadata": {
  "kernelspec": {
   "display_name": "Python 3",
   "language": "python",
   "name": "python3"
  },
  "language_info": {
   "codemirror_mode": {
    "name": "ipython",
    "version": 2
   },
   "file_extension": ".py",
   "mimetype": "text/x-python",
   "name": "python",
   "nbconvert_exporter": "python",
   "pygments_lexer": "ipython2",
   "version": "2.7.6"
  }
 },
 "nbformat": 4,
 "nbformat_minor": 5
}
